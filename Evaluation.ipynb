{
 "cells": [
  {
   "cell_type": "code",
   "execution_count": 1,
   "metadata": {},
   "outputs": [
    {
     "data": {
      "text/html": [
       "<div>\n",
       "<style scoped>\n",
       "    .dataframe tbody tr th:only-of-type {\n",
       "        vertical-align: middle;\n",
       "    }\n",
       "\n",
       "    .dataframe tbody tr th {\n",
       "        vertical-align: top;\n",
       "    }\n",
       "\n",
       "    .dataframe thead th {\n",
       "        text-align: right;\n",
       "    }\n",
       "</style>\n",
       "<table border=\"1\" class=\"dataframe\">\n",
       "  <thead>\n",
       "    <tr style=\"text-align: right;\">\n",
       "      <th></th>\n",
       "      <th>user_id</th>\n",
       "      <th>username</th>\n",
       "      <th>date</th>\n",
       "      <th>tweet</th>\n",
       "      <th>retweet</th>\n",
       "      <th>hashtags</th>\n",
       "      <th>nlikes</th>\n",
       "      <th>nretweets</th>\n",
       "      <th>language</th>\n",
       "      <th>Company</th>\n",
       "    </tr>\n",
       "  </thead>\n",
       "  <tbody>\n",
       "    <tr>\n",
       "      <th>0</th>\n",
       "      <td>279236166</td>\n",
       "      <td>EJLizama</td>\n",
       "      <td>2021-06-01 01:42:08</td>\n",
       "      <td>@VancityReynolds So, after our first six month...</td>\n",
       "      <td>False</td>\n",
       "      <td>[]</td>\n",
       "      <td>0</td>\n",
       "      <td>0</td>\n",
       "      <td>en</td>\n",
       "      <td>Mint Mobile</td>\n",
       "    </tr>\n",
       "    <tr>\n",
       "      <th>1</th>\n",
       "      <td>71210959</td>\n",
       "      <td>kodie</td>\n",
       "      <td>2021-06-01 00:09:59</td>\n",
       "      <td>Cheap plans $15/month &amp;amp; Save $15 @MintMobi...</td>\n",
       "      <td>False</td>\n",
       "      <td>['mint', 'mobile', 'cell', 'wireless', 'deal',...</td>\n",
       "      <td>0</td>\n",
       "      <td>0</td>\n",
       "      <td>en</td>\n",
       "      <td>Mint Mobile</td>\n",
       "    </tr>\n",
       "    <tr>\n",
       "      <th>2</th>\n",
       "      <td>15999396</td>\n",
       "      <td>AndBabyMakes5</td>\n",
       "      <td>2021-05-31 23:58:02</td>\n",
       "      <td>Hey @VancityReynolds your commercial asks how ...</td>\n",
       "      <td>False</td>\n",
       "      <td>[]</td>\n",
       "      <td>0</td>\n",
       "      <td>0</td>\n",
       "      <td>en</td>\n",
       "      <td>Mint Mobile</td>\n",
       "    </tr>\n",
       "    <tr>\n",
       "      <th>3</th>\n",
       "      <td>173978383</td>\n",
       "      <td>deeprastogi</td>\n",
       "      <td>2021-05-31 23:44:05</td>\n",
       "      <td>If there weren't enough reasons to love  @Mint...</td>\n",
       "      <td>False</td>\n",
       "      <td>[]</td>\n",
       "      <td>1</td>\n",
       "      <td>0</td>\n",
       "      <td>en</td>\n",
       "      <td>Mint Mobile</td>\n",
       "    </tr>\n",
       "    <tr>\n",
       "      <th>4</th>\n",
       "      <td>1205668050827018241</td>\n",
       "      <td>RandalGilbert11</td>\n",
       "      <td>2021-05-31 23:15:48</td>\n",
       "      <td>@fmossthree @AviationGin @VancityReynolds Fini...</td>\n",
       "      <td>False</td>\n",
       "      <td>[]</td>\n",
       "      <td>0</td>\n",
       "      <td>0</td>\n",
       "      <td>en</td>\n",
       "      <td>Mint Mobile</td>\n",
       "    </tr>\n",
       "  </tbody>\n",
       "</table>\n",
       "</div>"
      ],
      "text/plain": [
       "               user_id         username                 date  \\\n",
       "0            279236166         EJLizama  2021-06-01 01:42:08   \n",
       "1             71210959            kodie  2021-06-01 00:09:59   \n",
       "2             15999396    AndBabyMakes5  2021-05-31 23:58:02   \n",
       "3            173978383      deeprastogi  2021-05-31 23:44:05   \n",
       "4  1205668050827018241  RandalGilbert11  2021-05-31 23:15:48   \n",
       "\n",
       "                                               tweet  retweet  \\\n",
       "0  @VancityReynolds So, after our first six month...    False   \n",
       "1  Cheap plans $15/month &amp; Save $15 @MintMobi...    False   \n",
       "2  Hey @VancityReynolds your commercial asks how ...    False   \n",
       "3  If there weren't enough reasons to love  @Mint...    False   \n",
       "4  @fmossthree @AviationGin @VancityReynolds Fini...    False   \n",
       "\n",
       "                                            hashtags  nlikes  nretweets  \\\n",
       "0                                                 []       0          0   \n",
       "1  ['mint', 'mobile', 'cell', 'wireless', 'deal',...       0          0   \n",
       "2                                                 []       0          0   \n",
       "3                                                 []       1          0   \n",
       "4                                                 []       0          0   \n",
       "\n",
       "  language      Company  \n",
       "0       en  Mint Mobile  \n",
       "1       en  Mint Mobile  \n",
       "2       en  Mint Mobile  \n",
       "3       en  Mint Mobile  \n",
       "4       en  Mint Mobile  "
      ]
     },
     "execution_count": 1,
     "metadata": {},
     "output_type": "execute_result"
    }
   ],
   "source": [
    "import pandas as pd\n",
    "import numpy as np\n",
    "import gensim\n",
    "import matplotlib.pyplot as plt\n",
    "%matplotlib inline\n",
    "mint=pd.read_csv('MINTDEF.csv',index_col=0, header=0)\n",
    "#All retweets are automatically removed by twint. CHECK\n",
    "mint=mint[mint.retweet==False]\n",
    "#All bots are automatically removed by twint\n",
    "mint.head()"
   ]
  },
  {
   "cell_type": "code",
   "execution_count": 2,
   "metadata": {},
   "outputs": [
    {
     "data": {
      "text/html": [
       "<div>\n",
       "<style scoped>\n",
       "    .dataframe tbody tr th:only-of-type {\n",
       "        vertical-align: middle;\n",
       "    }\n",
       "\n",
       "    .dataframe tbody tr th {\n",
       "        vertical-align: top;\n",
       "    }\n",
       "\n",
       "    .dataframe thead th {\n",
       "        text-align: right;\n",
       "    }\n",
       "</style>\n",
       "<table border=\"1\" class=\"dataframe\">\n",
       "  <thead>\n",
       "    <tr style=\"text-align: right;\">\n",
       "      <th></th>\n",
       "      <th>user_id</th>\n",
       "      <th>username</th>\n",
       "      <th>date</th>\n",
       "      <th>tweet</th>\n",
       "      <th>retweet</th>\n",
       "      <th>hashtags</th>\n",
       "      <th>nlikes</th>\n",
       "      <th>nretweets</th>\n",
       "      <th>language</th>\n",
       "      <th>Company</th>\n",
       "    </tr>\n",
       "  </thead>\n",
       "  <tbody>\n",
       "    <tr>\n",
       "      <th>0</th>\n",
       "      <td>1037178407509868545</td>\n",
       "      <td>2018Colo</td>\n",
       "      <td>2021-06-01 00:47:40</td>\n",
       "      <td>@xfinitymobile I only have 2 lines and am a cu...</td>\n",
       "      <td>False</td>\n",
       "      <td>[]</td>\n",
       "      <td>0</td>\n",
       "      <td>0</td>\n",
       "      <td>en</td>\n",
       "      <td>Xfinity</td>\n",
       "    </tr>\n",
       "    <tr>\n",
       "      <th>1</th>\n",
       "      <td>45651493</td>\n",
       "      <td>leeeeeeeesssa33</td>\n",
       "      <td>2021-05-31 23:25:57</td>\n",
       "      <td>@bobbyfoo7 @xfinitymobile I HATE that ad. I se...</td>\n",
       "      <td>False</td>\n",
       "      <td>[]</td>\n",
       "      <td>0</td>\n",
       "      <td>0</td>\n",
       "      <td>en</td>\n",
       "      <td>Xfinity</td>\n",
       "    </tr>\n",
       "    <tr>\n",
       "      <th>2</th>\n",
       "      <td>1031633746347274241</td>\n",
       "      <td>AnaRoseMusic</td>\n",
       "      <td>2021-05-31 17:37:49</td>\n",
       "      <td>I won’t believe corporations are people until ...</td>\n",
       "      <td>False</td>\n",
       "      <td>[]</td>\n",
       "      <td>4</td>\n",
       "      <td>1</td>\n",
       "      <td>en</td>\n",
       "      <td>Xfinity</td>\n",
       "    </tr>\n",
       "    <tr>\n",
       "      <th>3</th>\n",
       "      <td>1031633746347274241</td>\n",
       "      <td>AnaRoseMusic</td>\n",
       "      <td>2021-05-31 17:12:31</td>\n",
       "      <td>@fantasticmstfox @xfinitymobile Yup. I couldn’...</td>\n",
       "      <td>False</td>\n",
       "      <td>[]</td>\n",
       "      <td>1</td>\n",
       "      <td>0</td>\n",
       "      <td>en</td>\n",
       "      <td>Xfinity</td>\n",
       "    </tr>\n",
       "    <tr>\n",
       "      <th>4</th>\n",
       "      <td>1115623432090087425</td>\n",
       "      <td>fantasticmstfox</td>\n",
       "      <td>2021-05-31 17:11:35</td>\n",
       "      <td>@AnaRoseMusic @xfinitymobile Well I hate THAT ...</td>\n",
       "      <td>False</td>\n",
       "      <td>[]</td>\n",
       "      <td>1</td>\n",
       "      <td>0</td>\n",
       "      <td>en</td>\n",
       "      <td>Xfinity</td>\n",
       "    </tr>\n",
       "  </tbody>\n",
       "</table>\n",
       "</div>"
      ],
      "text/plain": [
       "               user_id         username                 date  \\\n",
       "0  1037178407509868545         2018Colo  2021-06-01 00:47:40   \n",
       "1             45651493  leeeeeeeesssa33  2021-05-31 23:25:57   \n",
       "2  1031633746347274241     AnaRoseMusic  2021-05-31 17:37:49   \n",
       "3  1031633746347274241     AnaRoseMusic  2021-05-31 17:12:31   \n",
       "4  1115623432090087425  fantasticmstfox  2021-05-31 17:11:35   \n",
       "\n",
       "                                               tweet  retweet hashtags  \\\n",
       "0  @xfinitymobile I only have 2 lines and am a cu...    False       []   \n",
       "1  @bobbyfoo7 @xfinitymobile I HATE that ad. I se...    False       []   \n",
       "2  I won’t believe corporations are people until ...    False       []   \n",
       "3  @fantasticmstfox @xfinitymobile Yup. I couldn’...    False       []   \n",
       "4  @AnaRoseMusic @xfinitymobile Well I hate THAT ...    False       []   \n",
       "\n",
       "   nlikes  nretweets language  Company  \n",
       "0       0          0       en  Xfinity  \n",
       "1       0          0       en  Xfinity  \n",
       "2       4          1       en  Xfinity  \n",
       "3       1          0       en  Xfinity  \n",
       "4       1          0       en  Xfinity  "
      ]
     },
     "execution_count": 2,
     "metadata": {},
     "output_type": "execute_result"
    }
   ],
   "source": [
    "xfin=pd.read_csv('XfinityDEFF.csv',index_col=0, header=0)\n",
    "#All retweets are automatically removed by twint. CHECK\n",
    "xfin=xfin[xfin.retweet==False]\n",
    "#All bots are automatically removed by twint\n",
    "xfin.head()\n"
   ]
  },
  {
   "cell_type": "code",
   "execution_count": 3,
   "metadata": {},
   "outputs": [
    {
     "data": {
      "text/html": [
       "<div>\n",
       "<style scoped>\n",
       "    .dataframe tbody tr th:only-of-type {\n",
       "        vertical-align: middle;\n",
       "    }\n",
       "\n",
       "    .dataframe tbody tr th {\n",
       "        vertical-align: top;\n",
       "    }\n",
       "\n",
       "    .dataframe thead th {\n",
       "        text-align: right;\n",
       "    }\n",
       "</style>\n",
       "<table border=\"1\" class=\"dataframe\">\n",
       "  <thead>\n",
       "    <tr style=\"text-align: right;\">\n",
       "      <th></th>\n",
       "      <th>user_id</th>\n",
       "      <th>username</th>\n",
       "      <th>date</th>\n",
       "      <th>tweet</th>\n",
       "      <th>retweet</th>\n",
       "      <th>hashtags</th>\n",
       "      <th>nlikes</th>\n",
       "      <th>nretweets</th>\n",
       "      <th>language</th>\n",
       "      <th>Company</th>\n",
       "    </tr>\n",
       "  </thead>\n",
       "  <tbody>\n",
       "    <tr>\n",
       "      <th>0</th>\n",
       "      <td>279236166</td>\n",
       "      <td>EJLizama</td>\n",
       "      <td>2021-06-01 01:42:08</td>\n",
       "      <td>@VancityReynolds So, after our first six month...</td>\n",
       "      <td>False</td>\n",
       "      <td>[]</td>\n",
       "      <td>0</td>\n",
       "      <td>0</td>\n",
       "      <td>en</td>\n",
       "      <td>Mint Mobile</td>\n",
       "    </tr>\n",
       "    <tr>\n",
       "      <th>1</th>\n",
       "      <td>71210959</td>\n",
       "      <td>kodie</td>\n",
       "      <td>2021-06-01 00:09:59</td>\n",
       "      <td>Cheap plans $15/month &amp;amp; Save $15 @MintMobi...</td>\n",
       "      <td>False</td>\n",
       "      <td>['mint', 'mobile', 'cell', 'wireless', 'deal',...</td>\n",
       "      <td>0</td>\n",
       "      <td>0</td>\n",
       "      <td>en</td>\n",
       "      <td>Mint Mobile</td>\n",
       "    </tr>\n",
       "    <tr>\n",
       "      <th>2</th>\n",
       "      <td>15999396</td>\n",
       "      <td>AndBabyMakes5</td>\n",
       "      <td>2021-05-31 23:58:02</td>\n",
       "      <td>Hey @VancityReynolds your commercial asks how ...</td>\n",
       "      <td>False</td>\n",
       "      <td>[]</td>\n",
       "      <td>0</td>\n",
       "      <td>0</td>\n",
       "      <td>en</td>\n",
       "      <td>Mint Mobile</td>\n",
       "    </tr>\n",
       "    <tr>\n",
       "      <th>3</th>\n",
       "      <td>173978383</td>\n",
       "      <td>deeprastogi</td>\n",
       "      <td>2021-05-31 23:44:05</td>\n",
       "      <td>If there weren't enough reasons to love  @Mint...</td>\n",
       "      <td>False</td>\n",
       "      <td>[]</td>\n",
       "      <td>1</td>\n",
       "      <td>0</td>\n",
       "      <td>en</td>\n",
       "      <td>Mint Mobile</td>\n",
       "    </tr>\n",
       "    <tr>\n",
       "      <th>4</th>\n",
       "      <td>1205668050827018241</td>\n",
       "      <td>RandalGilbert11</td>\n",
       "      <td>2021-05-31 23:15:48</td>\n",
       "      <td>@fmossthree @AviationGin @VancityReynolds Fini...</td>\n",
       "      <td>False</td>\n",
       "      <td>[]</td>\n",
       "      <td>0</td>\n",
       "      <td>0</td>\n",
       "      <td>en</td>\n",
       "      <td>Mint Mobile</td>\n",
       "    </tr>\n",
       "  </tbody>\n",
       "</table>\n",
       "</div>"
      ],
      "text/plain": [
       "               user_id         username                 date  \\\n",
       "0            279236166         EJLizama  2021-06-01 01:42:08   \n",
       "1             71210959            kodie  2021-06-01 00:09:59   \n",
       "2             15999396    AndBabyMakes5  2021-05-31 23:58:02   \n",
       "3            173978383      deeprastogi  2021-05-31 23:44:05   \n",
       "4  1205668050827018241  RandalGilbert11  2021-05-31 23:15:48   \n",
       "\n",
       "                                               tweet  retweet  \\\n",
       "0  @VancityReynolds So, after our first six month...    False   \n",
       "1  Cheap plans $15/month &amp; Save $15 @MintMobi...    False   \n",
       "2  Hey @VancityReynolds your commercial asks how ...    False   \n",
       "3  If there weren't enough reasons to love  @Mint...    False   \n",
       "4  @fmossthree @AviationGin @VancityReynolds Fini...    False   \n",
       "\n",
       "                                            hashtags  nlikes  nretweets  \\\n",
       "0                                                 []       0          0   \n",
       "1  ['mint', 'mobile', 'cell', 'wireless', 'deal',...       0          0   \n",
       "2                                                 []       0          0   \n",
       "3                                                 []       1          0   \n",
       "4                                                 []       0          0   \n",
       "\n",
       "  language      Company  \n",
       "0       en  Mint Mobile  \n",
       "1       en  Mint Mobile  \n",
       "2       en  Mint Mobile  \n",
       "3       en  Mint Mobile  \n",
       "4       en  Mint Mobile  "
      ]
     },
     "execution_count": 3,
     "metadata": {},
     "output_type": "execute_result"
    }
   ],
   "source": [
    "#Merged both companies\n",
    "data=pd.concat([mint,xfin])\n",
    "data.head()"
   ]
  },
  {
   "cell_type": "markdown",
   "metadata": {},
   "source": [
    "Mint Mobile:"
   ]
  },
  {
   "cell_type": "code",
   "execution_count": 4,
   "metadata": {},
   "outputs": [],
   "source": [
    "import spacy\n",
    "nlp = spacy.load(\"en_core_web_sm\")\n",
    "texts=list(mint['tweet'])\n",
    "processed_texts = [text for text in nlp.pipe(texts, disable=[\"ner\", \"parser\"])]\n",
    "tokenized_texts = [[token.lemma_ for token in text if not token.is_punct and not token.is_stop] for text in processed_texts]\n",
    "#print(tokenized_texts)\n"
   ]
  },
  {
   "cell_type": "code",
   "execution_count": 5,
   "metadata": {},
   "outputs": [
    {
     "name": "stdout",
     "output_type": "stream",
     "text": [
      "[(0, 1), (1, 1), (2, 1), (3, 1), (4, 1), (5, 1), (6, 1), (7, 1), (8, 1), (9, 1), (10, 2), (11, 1), (12, 1), (13, 1)]\n"
     ]
    }
   ],
   "source": [
    "import gensim.corpora as corpora\n",
    "\n",
    "# Create Dictionary\n",
    "id2word = corpora.Dictionary(tokenized_texts)\n",
    "\n",
    "# Create Corpus\n",
    "texts = tokenized_texts\n",
    "\n",
    "# Term Document Frequency\n",
    "corpus = [id2word.doc2bow(text) for text in texts]\n",
    "\n",
    "# View\n",
    "print(corpus[:1][0][:30])\n"
   ]
  },
  {
   "cell_type": "code",
   "execution_count": null,
   "metadata": {},
   "outputs": [],
   "source": []
  },
  {
   "cell_type": "code",
   "execution_count": 6,
   "metadata": {},
   "outputs": [],
   "source": [
    "# Build LDA model\n",
    "lda_model = gensim.models.ldamodel.LdaModel(corpus=corpus,\n",
    "                                           id2word=id2word,\n",
    "                                           num_topics=10, \n",
    "                                           random_state=20,\n",
    "                                           update_every=1,\n",
    "                                           chunksize=100,\n",
    "                                           passes=10,\n",
    "                                           alpha='auto',\n",
    "                                           per_word_topics=True)"
   ]
  },
  {
   "cell_type": "code",
   "execution_count": 7,
   "metadata": {},
   "outputs": [
    {
     "name": "stdout",
     "output_type": "stream",
     "text": [
      "\n",
      "Perplexity:  -9.4784406749025\n",
      "\n",
      "Coherence Score:  0.36579689132888304\n"
     ]
    }
   ],
   "source": [
    "from gensim.models.coherencemodel import CoherenceModel\n",
    "# Compute Perplexity\n",
    "print('\\nPerplexity: ', lda_model.log_perplexity(corpus))  # a measure of how good the model is. lower the better.\n",
    "\n",
    "# Compute Coherence Score\n",
    "coherence_model_lda = CoherenceModel(model=lda_model, texts=tokenized_texts, dictionary=id2word, coherence='c_v')\n",
    "coherence_lda = coherence_model_lda.get_coherence()\n",
    "print('\\nCoherence Score: ', coherence_lda)"
   ]
  },
  {
   "cell_type": "code",
   "execution_count": null,
   "metadata": {},
   "outputs": [],
   "source": []
  },
  {
   "cell_type": "code",
   "execution_count": 8,
   "metadata": {},
   "outputs": [],
   "source": [
    "#Build second model for check up\n",
    "from gensim.models.wrappers import LdaMallet\n",
    "import os\n",
    "os.environ['MALLET_HOME'] = 'C:\\\\Users\\\\Wehel\\\\Downloads\\\\thesis\\\\mallet-2.0.8'\n",
    "\n",
    "mallet_path = 'C:\\\\Users\\\\Wehel\\\\Downloads\\\\thesis\\\\mallet-2.0.8\\\\bin\\\\mallet'\n",
    "\n",
    "\n",
    "\n",
    "#mallet_path = r'C:\\Users\\Wehel\\Downloads\\thesis\\mallet-2.0.8' # update this path\n",
    "ldamallet = gensim.models.wrappers.LdaMallet(mallet_path,corpus=corpus, num_topics=10, id2word=id2word)"
   ]
  },
  {
   "cell_type": "code",
   "execution_count": 9,
   "metadata": {},
   "outputs": [
    {
     "name": "stdout",
     "output_type": "stream",
     "text": [
      "\n",
      "Coherence Score:  0.4902050835738184\n",
      "We see an increase of the coherence score\n"
     ]
    }
   ],
   "source": [
    "# Compute Coherence Score \n",
    "coherence_model_lda = CoherenceModel(model=ldamallet, texts=tokenized_texts, dictionary=id2word, coherence='c_v')\n",
    "coherence_lda = coherence_model_lda.get_coherence()\n",
    "print('\\nCoherence Score: ', coherence_lda)\n",
    "print('We see an increase of the coherence score')"
   ]
  },
  {
   "cell_type": "code",
   "execution_count": 10,
   "metadata": {},
   "outputs": [],
   "source": [
    "def compute_coherence_values(dictionary, corpus, texts, limit, start=2, step=3):\n",
    "    \"\"\"\n",
    "    Compute c_v coherence for various number of topics\n",
    "\n",
    "    Parameters:\n",
    "    ----------\n",
    "    dictionary : Gensim dictionary\n",
    "    corpus : Gensim corpus\n",
    "    texts : List of input texts\n",
    "    limit : Max num of topics\n",
    "\n",
    "    Returns:\n",
    "    -------\n",
    "    model_list : List of LDA topic models\n",
    "    coherence_values : Coherence values corresponding to the LDA model with respective number of topics\n",
    "    \"\"\"\n",
    "    coherence_values = []\n",
    "    model_list = []\n",
    "    for num_topics in range(start, limit, step):\n",
    "        model = gensim.models.wrappers.LdaMallet(mallet_path, corpus=corpus, num_topics=num_topics, id2word=id2word)\n",
    "        model_list.append(model)\n",
    "        coherencemodel = CoherenceModel(model=model, texts=texts, dictionary=dictionary, coherence='c_v')\n",
    "        coherence_values.append(coherencemodel.get_coherence())\n",
    "\n",
    "    return model_list, coherence_values"
   ]
  },
  {
   "cell_type": "code",
   "execution_count": 11,
   "metadata": {},
   "outputs": [],
   "source": [
    "model_list, coherence_values = compute_coherence_values(dictionary=id2word, corpus=corpus, texts=texts, start=2, limit=20, step=6)"
   ]
  },
  {
   "cell_type": "code",
   "execution_count": 12,
   "metadata": {},
   "outputs": [
    {
     "data": {
      "image/png": "[encoded data removed]",
      "text/plain": [
       "<Figure size 432x288 with 1 Axes>"
      ]
     },
     "metadata": {
      "needs_background": "light"
     },
     "output_type": "display_data"
    }
   ],
   "source": [
    "limit=20; start=2; step=6;\n",
    "x = range(start, limit, step)\n",
    "plt.plot(x, coherence_values)\n",
    "plt.xlabel(\"Number of Topics\")\n",
    "plt.ylabel(\"Coherence score\")\n",
    "plt.legend((\"coherence_values\"), loc='best')\n",
    "plt.title('Optimimal number of topics for Mint mobile')\n",
    "plt.show()\n"
   ]
  },
  {
   "cell_type": "code",
   "execution_count": 13,
   "metadata": {},
   "outputs": [
    {
     "name": "stdout",
     "output_type": "stream",
     "text": [
      "Topic number = 2  has Coherence Value of 0.4153\n",
      "Topic number = 8  has Coherence Value of 0.4953\n",
      "Topic number = 14  has Coherence Value of 0.4982\n"
     ]
    }
   ],
   "source": [
    "# Print the coherence scores\n",
    "for m, cv in zip(x, coherence_values):\n",
    "    print(\"Topic number =\", m, \" has Coherence Value of\", round(cv, 4))"
   ]
  },
  {
   "cell_type": "code",
   "execution_count": 14,
   "metadata": {},
   "outputs": [
    {
     "name": "stdout",
     "output_type": "stream",
     "text": [
      "Cut of point is at 8 topics\n"
     ]
    }
   ],
   "source": [
    "print('Cut of point is at 8 topics')"
   ]
  },
  {
   "cell_type": "markdown",
   "metadata": {},
   "source": [
    "Xfinity mobile:"
   ]
  },
  {
   "cell_type": "code",
   "execution_count": 15,
   "metadata": {},
   "outputs": [],
   "source": [
    "import spacy\n",
    "nlp = spacy.load(\"en_core_web_sm\")\n",
    "texts=list(xfin['tweet'])\n",
    "processed_texts = [text for text in nlp.pipe(texts, disable=[\"ner\", \"parser\"])]\n",
    "tokenized_texts1 = [[token.lemma_ for token in text if not token.is_punct and not token.is_stop] for text in processed_texts]\n",
    "#print(tokenized_texts1)"
   ]
  },
  {
   "cell_type": "code",
   "execution_count": 16,
   "metadata": {},
   "outputs": [
    {
     "name": "stdout",
     "output_type": "stream",
     "text": [
      "[(0, 1), (1, 1), (2, 1), (3, 1), (4, 1), (5, 1)]\n"
     ]
    }
   ],
   "source": [
    "import gensim.corpora as corpora\n",
    "\n",
    "# Create Dictionary\n",
    "id2word = corpora.Dictionary(tokenized_texts1)\n",
    "\n",
    "# Create Corpus\n",
    "texts1 = tokenized_texts1\n",
    "\n",
    "# Term Document Frequency\n",
    "corpus1 = [id2word.doc2bow(text) for text in texts1]\n",
    "\n",
    "#corpus=filter(lambda x: x in dictionary.values(), t) for t in texts)\n",
    "# View\n",
    "print(corpus1[:1][0][:30])\n"
   ]
  },
  {
   "cell_type": "code",
   "execution_count": null,
   "metadata": {},
   "outputs": [],
   "source": []
  },
  {
   "cell_type": "code",
   "execution_count": 17,
   "metadata": {},
   "outputs": [],
   "source": [
    "#Build LDA model\n",
    "from gensim.models.wrappers import LdaMallet\n",
    "import os\n",
    "os.environ['MALLET_HOME'] = 'C:\\\\Users\\\\Wehel\\\\Downloads\\\\thesis\\\\mallet-2.0.8'\n",
    "\n",
    "mallet_path = 'C:\\\\Users\\\\Wehel\\\\Downloads\\\\thesis\\\\mallet-2.0.8\\\\bin\\\\mallet'\n",
    "\n",
    "\n",
    "\n",
    "#mallet_path = r'C:\\Users\\Wehel\\Downloads\\thesis\\mallet-2.0.8' # update this path\n",
    "ldamallet = gensim.models.wrappers.LdaMallet(mallet_path,corpus=corpus1, num_topics=10, id2word=id2word)"
   ]
  },
  {
   "cell_type": "code",
   "execution_count": 18,
   "metadata": {},
   "outputs": [
    {
     "name": "stdout",
     "output_type": "stream",
     "text": [
      "\n",
      "Perplexity:  -9.47844067065\n",
      "\n",
      "Coherence Score:  0.5139099605932509\n"
     ]
    }
   ],
   "source": [
    "from gensim.models.coherencemodel import CoherenceModel\n",
    "# Compute Perplexity\n",
    "print('\\nPerplexity: ', lda_model.log_perplexity(corpus))  # a measure of how good the model is. lower the better.\n",
    "\n",
    "# Compute Coherence Score\n",
    "coherence_model_lda1 = CoherenceModel(model=ldamallet, texts=texts1, dictionary=id2word, coherence='c_v')\n",
    "coherence_lda1 = coherence_model_lda1.get_coherence()\n",
    "print('\\nCoherence Score: ', coherence_lda1)"
   ]
  },
  {
   "cell_type": "code",
   "execution_count": 23,
   "metadata": {},
   "outputs": [],
   "source": [
    "def compute_coherence_values(dictionary, corpus, texts, limit, start=2, step=3):\n",
    "    \"\"\"\n",
    "    Compute c_v coherence for various number of topics\n",
    "\n",
    "    Parameters:\n",
    "    ----------\n",
    "    dictionary : Gensim dictionary\n",
    "    corpus : Gensim corpus\n",
    "    texts : List of input texts\n",
    "    limit : Max num of topics\n",
    "\n",
    "    Returns:\n",
    "    -------\n",
    "    model_list : List of LDA topic models\n",
    "    coherence_values : Coherence values corresponding to the LDA model with respective number of topics\n",
    "    \"\"\"\n",
    "    coherence_values1 = []\n",
    "    model_list1 = []\n",
    "    for num_topics in range(start, limit, step):\n",
    "        model = gensim.models.wrappers.LdaMallet(mallet_path, corpus=corpus1, num_topics=num_topics, id2word=id2word)\n",
    "        model_list1.append(model)\n",
    "        coherencemodel = CoherenceModel(model=model, texts=texts1, dictionary=dictionary, coherence='c_v')\n",
    "        coherence_values1.append(coherencemodel.get_coherence())\n",
    "\n",
    "    return model_list1, coherence_values1"
   ]
  },
  {
   "cell_type": "code",
   "execution_count": null,
   "metadata": {},
   "outputs": [],
   "source": []
  },
  {
   "cell_type": "code",
   "execution_count": 24,
   "metadata": {},
   "outputs": [],
   "source": [
    "model_list1, coherence_values1 = compute_coherence_values(dictionary=id2word, corpus=corpus1, texts=texts1, start=2, limit=20, step=6)"
   ]
  },
  {
   "cell_type": "code",
   "execution_count": 25,
   "metadata": {},
   "outputs": [
    {
     "data": {
      "image/png": "[encoded data removed]",
      "text/plain": [
       "<Figure size 432x288 with 1 Axes>"
      ]
     },
     "metadata": {
      "needs_background": "light"
     },
     "output_type": "display_data"
    }
   ],
   "source": [
    "limit=20; start=2; step=6;\n",
    "x = range(start, limit, step)\n",
    "plt.plot(x, coherence_values1)\n",
    "plt.xlabel(\"Number of Topics\")\n",
    "plt.ylabel(\"Coherence score\")\n",
    "plt.legend((\"coherence_values\"), loc='best')\n",
    "plt.title('Optimimal number of topics for xfinity mobile')\n",
    "plt.show()"
   ]
  },
  {
   "cell_type": "code",
   "execution_count": 28,
   "metadata": {},
   "outputs": [
    {
     "name": "stdout",
     "output_type": "stream",
     "text": [
      "Topic number = 2  has Coherence Value of 0.4532\n",
      "Topic number = 8  has Coherence Value of 0.5066\n",
      "Topic number = 14  has Coherence Value of 0.4809\n"
     ]
    }
   ],
   "source": [
    "# Print the coherence scores\n",
    "for m, cv in zip(x, coherence_values1):\n",
    "    print(\"Topic number =\", m, \" has Coherence Value of\", round(cv, 4))"
   ]
  },
  {
   "cell_type": "code",
   "execution_count": 29,
   "metadata": {},
   "outputs": [
    {
     "name": "stdout",
     "output_type": "stream",
     "text": [
      "Cut of point is at 8 topics\n"
     ]
    }
   ],
   "source": [
    "print('Cut of point is at 8 topics')"
   ]
  },
  {
   "cell_type": "code",
   "execution_count": null,
   "metadata": {},
   "outputs": [],
   "source": []
  }
 ],
 "metadata": {
  "kernelspec": {
   "display_name": "Python 3",
   "language": "python",
   "name": "python3"
  },
  "language_info": {
   "codemirror_mode": {
    "name": "ipython",
    "version": 3
   },
   "file_extension": ".py",
   "mimetype": "text/x-python",
   "name": "python",
   "nbconvert_exporter": "python",
   "pygments_lexer": "ipython3",
   "version": "3.8.5"
  }
 },
 "nbformat": 4,
 "nbformat_minor": 4
}
